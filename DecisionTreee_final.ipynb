{
  "nbformat": 4,
  "nbformat_minor": 0,
  "metadata": {
    "colab": {
      "provenance": []
    },
    "kernelspec": {
      "name": "python3",
      "display_name": "Python 3"
    },
    "language_info": {
      "name": "python"
    }
  },
  "cells": [
    {
      "cell_type": "code",
      "execution_count": 2,
      "metadata": {
        "id": "BWCxiHGA53K4"
      },
      "outputs": [],
      "source": [
        "import numpy as np\n",
        "import matplotlib.pyplot as plt"
      ]
    },
    {
      "cell_type": "code",
      "source": [
        "X_train = np.array([[1,1,1],[1,0,1],[1,0,0],[1,0,0],[1,1,1],[0,1,1],[0,0,0],[1,0,1],[0,1,0],[1,0,0]])\n",
        "y_train = np.array([1,1,0,0,1,0,0,1,1,0])"
      ],
      "metadata": {
        "id": "j3UVY1Xw6B5H"
      },
      "execution_count": 3,
      "outputs": []
    },
    {
      "cell_type": "code",
      "source": [
        "print(\"First few elements of X_train:\\n\", X_train[:5])\n",
        "print(\"Type of X_train:\",type(X_train))"
      ],
      "metadata": {
        "colab": {
          "base_uri": "https://localhost:8080/"
        },
        "id": "pRHKryI06I6j",
        "outputId": "1561f374-4489-4b5b-a72f-b659f8d7c4f6"
      },
      "execution_count": 4,
      "outputs": [
        {
          "output_type": "stream",
          "name": "stdout",
          "text": [
            "First few elements of X_train:\n",
            " [[1 1 1]\n",
            " [1 0 1]\n",
            " [1 0 0]\n",
            " [1 0 0]\n",
            " [1 1 1]]\n",
            "Type of X_train: <class 'numpy.ndarray'>\n"
          ]
        }
      ]
    },
    {
      "cell_type": "code",
      "source": [
        "print(\"First few elements of y_train:\", y_train[:5])\n",
        "print(\"Type of y_train:\",type(y_train))"
      ],
      "metadata": {
        "colab": {
          "base_uri": "https://localhost:8080/"
        },
        "id": "Os6rupsK6Kt1",
        "outputId": "f948d4ed-267b-4752-af6a-73bca1d7951d"
      },
      "execution_count": 5,
      "outputs": [
        {
          "output_type": "stream",
          "name": "stdout",
          "text": [
            "First few elements of y_train: [1 1 0 0 1]\n",
            "Type of y_train: <class 'numpy.ndarray'>\n"
          ]
        }
      ]
    },
    {
      "cell_type": "code",
      "source": [
        "print ('The shape of X_train is:', X_train.shape)\n",
        "print ('The shape of y_train is: ', y_train.shape)\n",
        "print ('Number of training examples (m):', len(X_train))"
      ],
      "metadata": {
        "colab": {
          "base_uri": "https://localhost:8080/"
        },
        "id": "l-WUJOu46MWV",
        "outputId": "5625c99d-55de-42a2-b6df-ffaaeba48181"
      },
      "execution_count": 6,
      "outputs": [
        {
          "output_type": "stream",
          "name": "stdout",
          "text": [
            "The shape of X_train is: (10, 3)\n",
            "The shape of y_train is:  (10,)\n",
            "Number of training examples (m): 10\n"
          ]
        }
      ]
    },
    {
      "cell_type": "code",
      "source": [
        "\n",
        "\n",
        "def compute_entropy(y):\n",
        "\n",
        "\n",
        "    #y (ndarray): Numpy array indicating whether each example at a node is\n",
        "    #       edible (`1`) or poisonous (`0`)\n",
        "\n",
        "    #Returns:\n",
        "     #   entropy (float): Entropy at that node\n",
        "\n",
        "\n",
        "    entropy = 0.\n",
        "\n",
        "\n",
        "    if np.sum(y) == 0 or np.sum(y) == len(y):\n",
        "        return 0\n",
        "    else:\n",
        "        p=np.sum(y)/len(y)\n",
        "        return -p * np.log2(p) - (1- p)*np.log2(1 - p)\n",
        "\n",
        "\n",
        "    return entropy"
      ],
      "metadata": {
        "id": "IyN0roRG6OBs"
      },
      "execution_count": 8,
      "outputs": []
    },
    {
      "cell_type": "code",
      "source": [
        "print(\"Entropy at root node: \", compute_entropy(y_train))"
      ],
      "metadata": {
        "colab": {
          "base_uri": "https://localhost:8080/"
        },
        "id": "9Vd3-BCJ6b6Z",
        "outputId": "bb6f888b-a25a-4eed-e9ac-8d47b5ae4d54"
      },
      "execution_count": 9,
      "outputs": [
        {
          "output_type": "stream",
          "name": "stdout",
          "text": [
            "Entropy at root node:  1.0\n"
          ]
        }
      ]
    },
    {
      "cell_type": "code",
      "source": [
        "# UNQ_C2\n",
        "# GRADED FUNCTION: split_dataset\n",
        "\n",
        "def split_dataset(X, node_indices, feature):\n",
        "\n",
        "\n",
        "\n",
        "#        X (ndarray):             Data matrix of shape(n_samples, n_features)\n",
        " #       node_indices (list):     List containing the active indices. I.e, the samples being considered at this step.\n",
        "  #      feature (int):           Index of feature to split on\n",
        "\n",
        " #   Returns:\n",
        "  #      left_indices (list):     Indices with feature value == 1\n",
        "   #     right_indices (list):    Indices with feature value == 0\n",
        "\n",
        "\n",
        "    left_indices = []\n",
        "    right_indices = []\n",
        "\n",
        "    for i in node_indices:\n",
        "        if X[i,feature]==1:\n",
        "            left_indices.append(i)\n",
        "        else:\n",
        "            right_indices.append(i)\n",
        "\n",
        "    return left_indices, right_indices"
      ],
      "metadata": {
        "id": "uHs4BmLV6gGx"
      },
      "execution_count": 11,
      "outputs": []
    },
    {
      "cell_type": "code",
      "source": [
        "# Case 1\n",
        "\n",
        "root_indices = [0, 1, 2, 3, 4, 5, 6, 7, 8, 9]\n",
        "\n",
        "feature = 0\n",
        "\n",
        "left_indices, right_indices = split_dataset(X_train, root_indices, feature)\n",
        "\n",
        "print(\"CASE 1:\")\n",
        "print(\"Left indices: \", left_indices)\n",
        "print(\"Right indices: \", right_indices)\n",
        "\n",
        "\n",
        "\n",
        "print()\n",
        "\n",
        "# Case 2\n",
        "\n",
        "root_indices_subset = [0, 2, 4, 6, 8]\n",
        "left_indices, right_indices = split_dataset(X_train, root_indices_subset, feature)\n",
        "\n",
        "print(\"CASE 2:\")\n",
        "print(\"Left indices: \", left_indices)\n",
        "print(\"Right indices: \", right_indices)\n"
      ],
      "metadata": {
        "colab": {
          "base_uri": "https://localhost:8080/"
        },
        "id": "1a4m1m5I6tjt",
        "outputId": "13940c85-b0d7-4cfe-b28a-f90a6c91a72f"
      },
      "execution_count": 12,
      "outputs": [
        {
          "output_type": "stream",
          "name": "stdout",
          "text": [
            "CASE 1:\n",
            "Left indices:  [0, 1, 2, 3, 4, 7, 9]\n",
            "Right indices:  [5, 6, 8]\n",
            "\n",
            "CASE 2:\n",
            "Left indices:  [0, 2, 4]\n",
            "Right indices:  [6, 8]\n"
          ]
        }
      ]
    },
    {
      "cell_type": "code",
      "source": [
        "def compute_information_gain(X, y, node_indices, feature):\n",
        "\n",
        "\n",
        "       # X (ndarray):            Data matrix of shape(n_samples, n_features)\n",
        "        #y (array like):         list or ndarray with n_samples containing the target variable\n",
        "        #node_indices (ndarray): List containing the active indices. I.e, the samples being considered in this step.\n",
        "\n",
        "\n",
        "\n",
        "    left_indices, right_indices = split_dataset(X, node_indices, feature)\n",
        "\n",
        "    X_node, y_node = X[node_indices], y[node_indices]\n",
        "    X_left, y_left = X[left_indices], y[left_indices]\n",
        "    X_right, y_right = X[right_indices], y[right_indices]\n",
        "\n",
        "    information_gain = 0\n",
        "\n",
        "\n",
        "    hp=compute_entropy(y_node)\n",
        "    wleft=len(X_left)/len(X_node)\n",
        "    wright=len(X_right)/len(X_node)\n",
        "    hpleft=compute_entropy(y_left)\n",
        "    hpright=compute_entropy(y_right)\n",
        "\n",
        "\n",
        "\n",
        "    information_gain=hp-(wleft*hpleft+wright*hpright)\n",
        "\n",
        "\n",
        "\n",
        "    return information_gain"
      ],
      "metadata": {
        "id": "Wo8AytjI658R"
      },
      "execution_count": 13,
      "outputs": []
    },
    {
      "cell_type": "code",
      "source": [
        "info_gain0 = compute_information_gain(X_train, y_train, root_indices, feature=0)\n",
        "print(\"Information Gain from splitting the root on brown cap: \", info_gain0)\n",
        "\n",
        "info_gain1 = compute_information_gain(X_train, y_train, root_indices, feature=1)\n",
        "print(\"Information Gain from splitting the root on tapering stalk shape: \", info_gain1)\n",
        "\n",
        "info_gain2 = compute_information_gain(X_train, y_train, root_indices, feature=2)\n",
        "print(\"Information Gain from splitting the root on solitary: \", info_gain2)"
      ],
      "metadata": {
        "colab": {
          "base_uri": "https://localhost:8080/"
        },
        "id": "xe610U-N_utR",
        "outputId": "489b5355-c4c0-47d6-e753-e2e54e1d925e"
      },
      "execution_count": 14,
      "outputs": [
        {
          "output_type": "stream",
          "name": "stdout",
          "text": [
            "Information Gain from splitting the root on brown cap:  0.034851554559677034\n",
            "Information Gain from splitting the root on tapering stalk shape:  0.12451124978365313\n",
            "Information Gain from splitting the root on solitary:  0.2780719051126377\n"
          ]
        }
      ]
    },
    {
      "cell_type": "code",
      "source": [
        "def get_best_split(X, y, node_indices):\n",
        "\n",
        "       # X (ndarray):            Data matrix of shape(n_samples, n_features)\n",
        "       # y (array like):         list or ndarray with n_samples containing the target variable\n",
        "       # node_indices (ndarray): List containing the active indices. I.e, the samples being considered in this step.\n",
        "\n",
        "\n",
        "\n",
        "    num_features = X.shape[1]\n",
        "\n",
        "    best_feature = -1\n",
        "\n",
        "    max_info_gain=0\n",
        "\n",
        "\n",
        "    for i in range(num_features):\n",
        "        infogain=compute_information_gain(X, y, node_indices, feature=i)\n",
        "\n",
        "        if infogain>max_info_gain:\n",
        "            max_info_gain=infogain\n",
        "            best_feature=i\n",
        "\n",
        "    return best_feature"
      ],
      "metadata": {
        "id": "TZSoECcO_yp9"
      },
      "execution_count": 15,
      "outputs": []
    },
    {
      "cell_type": "code",
      "source": [
        "best_feature = get_best_split(X_train, y_train, root_indices)\n",
        "print(\"Best feature to split on: %d\" % best_feature)"
      ],
      "metadata": {
        "colab": {
          "base_uri": "https://localhost:8080/"
        },
        "id": "FKQgNJOvC_5S",
        "outputId": "1a9d95c6-0815-435b-9acf-c44a87db7309"
      },
      "execution_count": 16,
      "outputs": [
        {
          "output_type": "stream",
          "name": "stdout",
          "text": [
            "Best feature to split on: 2\n"
          ]
        }
      ]
    },
    {
      "cell_type": "code",
      "source": [
        "\n",
        "tree = []\n",
        "\n",
        "def build_tree_recursive(X, y, node_indices, branch_name, max_depth, current_depth):\n",
        "\n",
        "\n",
        "       # X (ndarray):            Data matrix of shape(n_samples, n_features)\n",
        "       # y (array like):         list or ndarray with n_samples containing the target variable\n",
        "       # node_indices (ndarray): List containing the active indices.\n",
        "       # branch_name (string):   Name of the branch. ['Root', 'Left', 'Right']\n",
        "       # max_depth (int):        Max depth of the resulting tree.\n",
        "       # current_depth (int):    Current depth. Parameter used during recursive call.\n",
        "\n",
        "    # Maximum depth reached - stop splitting\n",
        "    if current_depth == max_depth:\n",
        "        formatting = \" \"*current_depth + \"-\"*current_depth\n",
        "        print(formatting, \"%s leaf node with indices\" % branch_name, node_indices)\n",
        "        return\n",
        "\n",
        "    # Otherwise, get best split and split the data\n",
        "    # Get the best feature and threshold at this node\n",
        "    best_feature = get_best_split(X, y, node_indices)\n",
        "\n",
        "    formatting = \"-\"*current_depth\n",
        "    print(\"%s Depth %d, %s: Split on feature: %d\" % (formatting, current_depth, branch_name, best_feature))\n",
        "\n",
        "    # Split the dataset at the best feature\n",
        "    left_indices, right_indices = split_dataset(X, node_indices, best_feature)\n",
        "    tree.append((left_indices, right_indices, best_feature))\n",
        "\n",
        "    # continue splitting the left and the right child. Increment current depth\n",
        "    build_tree_recursive(X, y, left_indices, \"Left\", max_depth, current_depth+1)\n",
        "    build_tree_recursive(X, y, right_indices, \"Right\", max_depth, current_depth+1)"
      ],
      "metadata": {
        "id": "lYwHXSyaDEWV"
      },
      "execution_count": 17,
      "outputs": []
    },
    {
      "cell_type": "code",
      "source": [
        "build_tree_recursive(X_train, y_train, root_indices, \"Root\", max_depth=2, current_depth=0)"
      ],
      "metadata": {
        "colab": {
          "base_uri": "https://localhost:8080/"
        },
        "id": "5xEkbg_8EBXs",
        "outputId": "2847ea37-3f0a-43f6-daef-e2ff238f66ea"
      },
      "execution_count": 18,
      "outputs": [
        {
          "output_type": "stream",
          "name": "stdout",
          "text": [
            " Depth 0, Root: Split on feature: 2\n",
            "- Depth 1, Left: Split on feature: 0\n",
            "  -- Left leaf node with indices [0, 1, 4, 7]\n",
            "  -- Right leaf node with indices [5]\n",
            "- Depth 1, Right: Split on feature: 1\n",
            "  -- Left leaf node with indices [8]\n",
            "  -- Right leaf node with indices [2, 3, 6, 9]\n"
          ]
        }
      ]
    },
    {
      "cell_type": "code",
      "source": [],
      "metadata": {
        "id": "5w6taZIYEEZj"
      },
      "execution_count": null,
      "outputs": []
    }
  ]
}